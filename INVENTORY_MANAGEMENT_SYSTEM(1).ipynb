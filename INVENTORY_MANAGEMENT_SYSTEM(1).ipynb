{
 "cells": [
  {
   "cell_type": "markdown",
   "metadata": {},
   "source": [
    "Inventory Mangaement\n"
   ]
  },
  {
   "cell_type": "markdown",
   "metadata": {},
   "source": [
    "Lakshita Gaur"
   ]
  },
  {
   "cell_type": "code",
   "execution_count": 12,
   "metadata": {},
   "outputs": [],
   "source": [
    "import json\n",
    "\n",
    "fd = open(\"RRECORD.json\",\"r\")\n",
    "r = fd.read()\n",
    "fd.close()\n",
    "\n",
    "records = json.loads(r)\n"
   ]
  },
  {
   "cell_type": "markdown",
   "metadata": {},
   "source": [
    "### here's our menu !"
   ]
  },
  {
   "cell_type": "code",
   "execution_count": 13,
   "metadata": {},
   "outputs": [
    {
     "data": {
      "text/plain": [
       "{'1001': {'name': 'coffee', 'qn': 45, 'pr': 100},\n",
       " '1002': {'name': 'tea', 'qn': 30, 'pr': 100},\n",
       " '1003': {'name': 'chocolate shake', 'qn': 90, 'pr': 50},\n",
       " '1004': {'name': 'vanilla shake', 'qn': 85, 'pr': 50},\n",
       " '1005': {'name': 'strawberry shake', 'qn': 95, 'pr': 50},\n",
       " '1006': {'name': 'sundae', 'qn': 45, 'pr': 50},\n",
       " '1007': {'name': 'smoothie', 'qn': 95, 'pr': 40},\n",
       " '1008': {'name': 'lemon soda', 'qn': 70, 'pr': 50},\n",
       " '1009': {'name': 'cappuchino', 'qn': 75, 'pr': 30},\n",
       " '1010': {'name': 'latte', 'qn': 75, 'pr': 30},\n",
       " '1011': {'name': 'french fries', 'qn': 100, 'pr': 50},\n",
       " '1012': {'name': 'nuggets', 'qn': 90, 'pr': 50},\n",
       " '1013': {'name': 'tomato soup', 'qn': 55, 'pr': 30},\n",
       " '1014': {'name': 'sweet corn soup', 'qn': 65, 'pr': 30},\n",
       " '1015': {'name': 'patties', 'qn': 40, 'pr': 40},\n",
       " '1016': {'name': 'sandwich', 'qn': 50, 'pr': 50},\n",
       " '1017': {'name': 'pasta', 'qn': 105, 'pr': 40},\n",
       " '1018': {'name': 'burger', 'qn': 60, 'pr': 50},\n",
       " '1019': {'name': 'pizza', 'qn': 150, 'pr': 50},\n",
       " '1020': {'name': 'maggie', 'qn': 30, 'pr': 60},\n",
       " '1021': {'name': 'hakka noodles', 'qn': 200, 'pr': 30},\n",
       " '1022': {'name': 'fried rice', 'qn': 130, 'pr': 50},\n",
       " '1023': {'name': 'chowmein', 'qn': 90, 'pr': 50},\n",
       " '1024': {'name': 'manchurian', 'qn': 95, 'pr': 50},\n",
       " '1025': {'name': 'chilli paneer', 'qn': 120, 'pr': 50},\n",
       " '1026': {'name': 'chola bhatura', 'qn': 80, 'pr': 40},\n",
       " '1027': {'name': 'samose', 'qn': 20, 'pr': 30},\n",
       " '1028': {'name': 'aloo tikki', 'qn': 40, 'pr': 30},\n",
       " '1029': {'name': 'chole kulche', 'qn': 50, 'pr': 30},\n",
       " '1030': {'name': 'bread pakoda', 'qn': 20, 'pr': 20}}"
      ]
     },
     "execution_count": 13,
     "metadata": {},
     "output_type": "execute_result"
    }
   ],
   "source": [
    "records"
   ]
  },
  {
   "cell_type": "markdown",
   "metadata": {},
   "source": [
    "### what would you like to order ??"
   ]
  },
  {
   "cell_type": "code",
   "execution_count": 51,
   "metadata": {},
   "outputs": [
    {
     "name": "stdout",
     "output_type": "stream",
     "text": [
      "********WELCOME TO OUR CAFE**********\n",
      "what would you like to order ?\n",
      "Enter the product_Id: 1004\n",
      "Enter the quantity: 2\n",
      "Product:  vanilla shake\n",
      "Price:  50\n",
      "Billing Amount:  100 /-\n"
     ]
    }
   ],
   "source": [
    "print(\"********WELCOME TO OUR CAFE**********\")\n",
    "print(\"what would you like to order ?\")\n",
    "\n",
    "ui_prod  = str(input(\"Enter the product_Id: \"))\n",
    "ui_quant = int(input(\"Enter the quantity: \"))\n",
    "\n",
    "print(\"Product: \", records[ui_prod]['name'])\n",
    "print(\"Price: \", records[ui_prod]['pr'])\n",
    "Billing_Amount = records[ui_prod]['pr'] * ui_quant\n",
    "print(\"Billing Amount: \", Billing_Amount,\"/-\")\n",
    "\n",
    "\n",
    "records[ui_prod]['qn'] = records[ui_prod]['qn'] - ui_quant"
   ]
  },
  {
   "cell_type": "code",
   "execution_count": 53,
   "metadata": {},
   "outputs": [],
   "source": [
    "js = json.dumps(records)\n",
    "\n",
    "fd = open(\"RRECORD.json\",'w')\n",
    "fd.write(js)\n",
    "fd.close()"
   ]
  },
  {
   "cell_type": "markdown",
   "metadata": {},
   "source": [
    "### PAYMENT TRANSACTION !"
   ]
  },
  {
   "cell_type": "code",
   "execution_count": 52,
   "metadata": {},
   "outputs": [
    {
     "name": "stdout",
     "output_type": "stream",
     "text": [
      "Enter the money : 200\n",
      "change returned: 100\n",
      "transaction successfull!!\n",
      "ENJOY YOUR FOOD!!!!!!\n"
     ]
    }
   ],
   "source": [
    "ui_cash  = int(input(\"Enter the money : \"))\n",
    "if (ui_cash<Billing_Amount):\n",
    "    print(\"you're paying less than the biling amount, please recheck your billing amount!!!\")\n",
    "elif(ui_cash>Billing_Amount):\n",
    "    print(\"change returned:\",ui_cash-Billing_Amount)\n",
    "    print(\"transaction successfull!!\")\n",
    "    print(\"ENJOY YOUR FOOD!!!!!!\")\n",
    "else:\n",
    "    print(\"transaction successfull!!\")\n",
    "    print(\"ENJOY YOUR FOOD!!!!!!\")\n",
    "        "
   ]
  },
  {
   "cell_type": "markdown",
   "metadata": {},
   "source": [
    "LAUNCHING NEW PRODUCTS IN OUR CAFE"
   ]
  },
  {
   "cell_type": "code",
   "execution_count": null,
   "metadata": {},
   "outputs": [],
   "source": [
    "prod_id = str(input(\"Enter product id:\"))\n",
    "name = str(input(\"Enter name:\"))\n",
    "pr = int(input(\"Enter price:\"))\n",
    "qn = int(input(\"Enter quantity:\"))\n",
    "\n",
    "records[prod_id] = {'name': name, 'pr': pr, 'qn': qn}\n",
    "\n",
    "js = json.dumps(records)\n",
    "\n",
    "fd = open(\"RRECORD.json\",'w')\n",
    "fd.write(js)\n",
    "fd.close()"
   ]
  },
  {
   "cell_type": "code",
   "execution_count": 20,
   "metadata": {},
   "outputs": [
    {
     "data": {
      "text/plain": [
       "{'1001': {'name': 'coffee', 'qn': 45, 'pr': 100},\n",
       " '1002': {'name': 'tea', 'qn': 30, 'pr': 100},\n",
       " '1003': {'name': 'chocolate shake', 'qn': 90, 'pr': 50},\n",
       " '1004': {'name': 'vanilla shake', 'qn': 85, 'pr': 50},\n",
       " '1005': {'name': 'strawberry shake', 'qn': 95, 'pr': 50},\n",
       " '1006': {'name': 'sundae', 'qn': 25, 'pr': 50},\n",
       " '1007': {'name': 'smoothie', 'qn': 95, 'pr': 40},\n",
       " '1008': {'name': 'lemon soda', 'qn': 70, 'pr': 50},\n",
       " '1009': {'name': 'cappuchino', 'qn': 75, 'pr': 30},\n",
       " '1010': {'name': 'latte', 'qn': 75, 'pr': 30},\n",
       " '1011': {'name': 'french fries', 'qn': 100, 'pr': 50},\n",
       " '1012': {'name': 'nuggets', 'qn': 90, 'pr': 50},\n",
       " '1013': {'name': 'tomato soup', 'qn': 55, 'pr': 30},\n",
       " '1014': {'name': 'sweet corn soup', 'qn': 65, 'pr': 30},\n",
       " '1015': {'name': 'patties', 'qn': 40, 'pr': 40},\n",
       " '1016': {'name': 'sandwich', 'qn': 50, 'pr': 50},\n",
       " '1017': {'name': 'pasta', 'qn': 105, 'pr': 40},\n",
       " '1018': {'name': 'burger', 'qn': 60, 'pr': 50},\n",
       " '1019': {'name': 'pizza', 'qn': 150, 'pr': 50},\n",
       " '1020': {'name': 'maggie', 'qn': 30, 'pr': 60},\n",
       " '1021': {'name': 'hakka noodles', 'qn': 200, 'pr': 30},\n",
       " '1022': {'name': 'fried rice', 'qn': 130, 'pr': 50},\n",
       " '1023': {'name': 'chowmein', 'qn': 90, 'pr': 50},\n",
       " '1024': {'name': 'manchurian', 'qn': 95, 'pr': 50},\n",
       " '1025': {'name': 'chilli paneer', 'qn': 120, 'pr': 50},\n",
       " '1026': {'name': 'chola bhatura', 'qn': 80, 'pr': 40},\n",
       " '1027': {'name': 'samose', 'qn': 20, 'pr': 30},\n",
       " '1028': {'name': 'aloo tikki', 'qn': 40, 'pr': 30},\n",
       " '1029': {'name': 'chole kulche', 'qn': 50, 'pr': 30},\n",
       " '1030': {'name': 'bread pakoda', 'qn': 20, 'pr': 20},\n",
       " '1031': {'name': 'spring roll', 'pr': 80, 'qn': 30}}"
      ]
     },
     "execution_count": 20,
     "metadata": {},
     "output_type": "execute_result"
    }
   ],
   "source": [
    "records"
   ]
  },
  {
   "cell_type": "markdown",
   "metadata": {},
   "source": [
    "# THANKYOU FOR VISITING !! SEE YOU SOON !"
   ]
  }
 ],
 "metadata": {
  "kernelspec": {
   "display_name": "Python 3",
   "language": "python",
   "name": "python3"
  },
  "language_info": {
   "codemirror_mode": {
    "name": "ipython",
    "version": 3
   },
   "file_extension": ".py",
   "mimetype": "text/x-python",
   "name": "python",
   "nbconvert_exporter": "python",
   "pygments_lexer": "ipython3",
   "version": "3.8.3"
  }
 },
 "nbformat": 4,
 "nbformat_minor": 4
}
